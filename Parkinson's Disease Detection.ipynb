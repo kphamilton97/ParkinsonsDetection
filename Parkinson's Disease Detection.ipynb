{
 "cells": [
  {
   "cell_type": "markdown",
   "id": "4911108f",
   "metadata": {},
   "source": [
    "# Parkinson's Disease Detection"
   ]
  },
  {
   "cell_type": "markdown",
   "id": "db953b88",
   "metadata": {},
   "source": [
    "### Introduction"
   ]
  },
  {
   "cell_type": "markdown",
   "id": "6e82a285",
   "metadata": {},
   "source": [
    "Parkinson's is a progressive nervous system disorder that affects movement and causes shaking. Symptoms of the disease usually start out mild, but get worse over time. Many people around the world are affected by this disease, while it can't be cured, doctors are able to perscribe mdeicine to help with the symptoms.\n",
    "\n",
    "Parkinson's causes many symptoms, including, but not limited to: tremors, slowed movement, rigid muscles, impaired posture and balance, loss of automatic movements, and speach and writing changes. These are the symptoms most likely to appear first, while in later stages the disease can cause dementia and other mental health problems such as depression.\n",
    "\n",
    "Scientists and Doctors around the world have not been able to find the cause of Parkinson's disease, so preventing the disease is near impossible. What we do know about the disease, is that certian neurons in the brain slowly break down and die. Many of the symptoms are caused due to a lack of dopamine in the brain, causing the motor issues patients face. Genes likely play a roll where mutations cause the disease but is uncommon, unless there is a lot of cases of Parkinson's in the patients family.\n",
    "\n",
    "Everything talked about above will be used to help us build a model to detect the disease. We will use data from [UCL ML Parkinson's dataset](https://archive.ics.uci.edu/ml/machine-learning-databases/parkinsons/)."
   ]
  },
  {
   "cell_type": "markdown",
   "id": "5dc97b18",
   "metadata": {},
   "source": [
    "### Analysis"
   ]
  },
  {
   "cell_type": "markdown",
   "id": "aff99f46",
   "metadata": {},
   "source": [
    "We will be using classifictation methods to solve this problem, so we will use K Nearest Neighbors(KNN), Logistical Regression, Support Vector Machine(SVM), Decision Trees, and at the end we will take a look at a different classification methos called XGBoost. A confusion matrix will be used to help visualize how effective each model is at predicting the correct outcomes. We will use GridSearchCV to find the best hyperparameters for each model."
   ]
  },
  {
   "cell_type": "code",
   "execution_count": 8,
   "id": "55b79d8d",
   "metadata": {},
   "outputs": [],
   "source": [
    "#import all packages\n",
    "import numpy as np\n",
    "import pandas as pd\n",
    "import os, sys\n",
    "from sklearn.preprocessing import MinMaxScaler\n",
    "from xgboost import XGBClassifier\n",
    "from sklearn.model_selection import train_test_split\n",
    "from sklearn.model_selection import GridSearchCV\n",
    "from sklearn.linear_model import LogisticRegression\n",
    "from sklearn.svm import SVC\n",
    "from sklearn.tree import DecisionTreeClassifier\n",
    "from sklearn.neighbors import KNeighborsClassifier\n",
    "from sklearn.metrics import accuracy_score\n",
    "import matplotlib.pyplot as plt\n",
    "import seaborn as sns"
   ]
  },
  {
   "cell_type": "code",
   "execution_count": 16,
   "id": "ed06f663",
   "metadata": {},
   "outputs": [],
   "source": [
    "#Make a function that will plot a confusion matrix\n",
    "def ConfusionMatrix(y, y_pred):\n",
    "    from sklearn.metrics import confusion_matrix\n",
    "    \n",
    "    CM = confusion_matrix(y, y_pred)\n",
    "    ax = plt.subplot()\n",
    "    sns.heatmap(CM, annot = True, ax = ax)\n",
    "    ax.set_xlabel('Predicted Labels')\n",
    "    ax.set_ylabel('True Labels')\n",
    "    ax.set_title(\"Confusion Matrix\");\n",
    "    ax.xaxis.set_ticklabels(['negative', 'positive']); ax.yaxis.set_ticklabels(['negative', 'positive'])"
   ]
  },
  {
   "cell_type": "code",
   "execution_count": 2,
   "id": "7e86d84d",
   "metadata": {},
   "outputs": [
    {
     "data": {
      "text/html": [
       "<div>\n",
       "<style scoped>\n",
       "    .dataframe tbody tr th:only-of-type {\n",
       "        vertical-align: middle;\n",
       "    }\n",
       "\n",
       "    .dataframe tbody tr th {\n",
       "        vertical-align: top;\n",
       "    }\n",
       "\n",
       "    .dataframe thead th {\n",
       "        text-align: right;\n",
       "    }\n",
       "</style>\n",
       "<table border=\"1\" class=\"dataframe\">\n",
       "  <thead>\n",
       "    <tr style=\"text-align: right;\">\n",
       "      <th></th>\n",
       "      <th>name</th>\n",
       "      <th>MDVP:Fo(Hz)</th>\n",
       "      <th>MDVP:Fhi(Hz)</th>\n",
       "      <th>MDVP:Flo(Hz)</th>\n",
       "      <th>MDVP:Jitter(%)</th>\n",
       "      <th>MDVP:Jitter(Abs)</th>\n",
       "      <th>MDVP:RAP</th>\n",
       "      <th>MDVP:PPQ</th>\n",
       "      <th>Jitter:DDP</th>\n",
       "      <th>MDVP:Shimmer</th>\n",
       "      <th>...</th>\n",
       "      <th>Shimmer:DDA</th>\n",
       "      <th>NHR</th>\n",
       "      <th>HNR</th>\n",
       "      <th>status</th>\n",
       "      <th>RPDE</th>\n",
       "      <th>DFA</th>\n",
       "      <th>spread1</th>\n",
       "      <th>spread2</th>\n",
       "      <th>D2</th>\n",
       "      <th>PPE</th>\n",
       "    </tr>\n",
       "  </thead>\n",
       "  <tbody>\n",
       "    <tr>\n",
       "      <th>0</th>\n",
       "      <td>phon_R01_S01_1</td>\n",
       "      <td>119.992</td>\n",
       "      <td>157.302</td>\n",
       "      <td>74.997</td>\n",
       "      <td>0.00784</td>\n",
       "      <td>0.00007</td>\n",
       "      <td>0.00370</td>\n",
       "      <td>0.00554</td>\n",
       "      <td>0.01109</td>\n",
       "      <td>0.04374</td>\n",
       "      <td>...</td>\n",
       "      <td>0.06545</td>\n",
       "      <td>0.02211</td>\n",
       "      <td>21.033</td>\n",
       "      <td>1</td>\n",
       "      <td>0.414783</td>\n",
       "      <td>0.815285</td>\n",
       "      <td>-4.813031</td>\n",
       "      <td>0.266482</td>\n",
       "      <td>2.301442</td>\n",
       "      <td>0.284654</td>\n",
       "    </tr>\n",
       "    <tr>\n",
       "      <th>1</th>\n",
       "      <td>phon_R01_S01_2</td>\n",
       "      <td>122.400</td>\n",
       "      <td>148.650</td>\n",
       "      <td>113.819</td>\n",
       "      <td>0.00968</td>\n",
       "      <td>0.00008</td>\n",
       "      <td>0.00465</td>\n",
       "      <td>0.00696</td>\n",
       "      <td>0.01394</td>\n",
       "      <td>0.06134</td>\n",
       "      <td>...</td>\n",
       "      <td>0.09403</td>\n",
       "      <td>0.01929</td>\n",
       "      <td>19.085</td>\n",
       "      <td>1</td>\n",
       "      <td>0.458359</td>\n",
       "      <td>0.819521</td>\n",
       "      <td>-4.075192</td>\n",
       "      <td>0.335590</td>\n",
       "      <td>2.486855</td>\n",
       "      <td>0.368674</td>\n",
       "    </tr>\n",
       "    <tr>\n",
       "      <th>2</th>\n",
       "      <td>phon_R01_S01_3</td>\n",
       "      <td>116.682</td>\n",
       "      <td>131.111</td>\n",
       "      <td>111.555</td>\n",
       "      <td>0.01050</td>\n",
       "      <td>0.00009</td>\n",
       "      <td>0.00544</td>\n",
       "      <td>0.00781</td>\n",
       "      <td>0.01633</td>\n",
       "      <td>0.05233</td>\n",
       "      <td>...</td>\n",
       "      <td>0.08270</td>\n",
       "      <td>0.01309</td>\n",
       "      <td>20.651</td>\n",
       "      <td>1</td>\n",
       "      <td>0.429895</td>\n",
       "      <td>0.825288</td>\n",
       "      <td>-4.443179</td>\n",
       "      <td>0.311173</td>\n",
       "      <td>2.342259</td>\n",
       "      <td>0.332634</td>\n",
       "    </tr>\n",
       "    <tr>\n",
       "      <th>3</th>\n",
       "      <td>phon_R01_S01_4</td>\n",
       "      <td>116.676</td>\n",
       "      <td>137.871</td>\n",
       "      <td>111.366</td>\n",
       "      <td>0.00997</td>\n",
       "      <td>0.00009</td>\n",
       "      <td>0.00502</td>\n",
       "      <td>0.00698</td>\n",
       "      <td>0.01505</td>\n",
       "      <td>0.05492</td>\n",
       "      <td>...</td>\n",
       "      <td>0.08771</td>\n",
       "      <td>0.01353</td>\n",
       "      <td>20.644</td>\n",
       "      <td>1</td>\n",
       "      <td>0.434969</td>\n",
       "      <td>0.819235</td>\n",
       "      <td>-4.117501</td>\n",
       "      <td>0.334147</td>\n",
       "      <td>2.405554</td>\n",
       "      <td>0.368975</td>\n",
       "    </tr>\n",
       "    <tr>\n",
       "      <th>4</th>\n",
       "      <td>phon_R01_S01_5</td>\n",
       "      <td>116.014</td>\n",
       "      <td>141.781</td>\n",
       "      <td>110.655</td>\n",
       "      <td>0.01284</td>\n",
       "      <td>0.00011</td>\n",
       "      <td>0.00655</td>\n",
       "      <td>0.00908</td>\n",
       "      <td>0.01966</td>\n",
       "      <td>0.06425</td>\n",
       "      <td>...</td>\n",
       "      <td>0.10470</td>\n",
       "      <td>0.01767</td>\n",
       "      <td>19.649</td>\n",
       "      <td>1</td>\n",
       "      <td>0.417356</td>\n",
       "      <td>0.823484</td>\n",
       "      <td>-3.747787</td>\n",
       "      <td>0.234513</td>\n",
       "      <td>2.332180</td>\n",
       "      <td>0.410335</td>\n",
       "    </tr>\n",
       "  </tbody>\n",
       "</table>\n",
       "<p>5 rows × 24 columns</p>\n",
       "</div>"
      ],
      "text/plain": [
       "             name  MDVP:Fo(Hz)  MDVP:Fhi(Hz)  MDVP:Flo(Hz)  MDVP:Jitter(%)  \\\n",
       "0  phon_R01_S01_1      119.992       157.302        74.997         0.00784   \n",
       "1  phon_R01_S01_2      122.400       148.650       113.819         0.00968   \n",
       "2  phon_R01_S01_3      116.682       131.111       111.555         0.01050   \n",
       "3  phon_R01_S01_4      116.676       137.871       111.366         0.00997   \n",
       "4  phon_R01_S01_5      116.014       141.781       110.655         0.01284   \n",
       "\n",
       "   MDVP:Jitter(Abs)  MDVP:RAP  MDVP:PPQ  Jitter:DDP  MDVP:Shimmer  ...  \\\n",
       "0           0.00007   0.00370   0.00554     0.01109       0.04374  ...   \n",
       "1           0.00008   0.00465   0.00696     0.01394       0.06134  ...   \n",
       "2           0.00009   0.00544   0.00781     0.01633       0.05233  ...   \n",
       "3           0.00009   0.00502   0.00698     0.01505       0.05492  ...   \n",
       "4           0.00011   0.00655   0.00908     0.01966       0.06425  ...   \n",
       "\n",
       "   Shimmer:DDA      NHR     HNR  status      RPDE       DFA   spread1  \\\n",
       "0      0.06545  0.02211  21.033       1  0.414783  0.815285 -4.813031   \n",
       "1      0.09403  0.01929  19.085       1  0.458359  0.819521 -4.075192   \n",
       "2      0.08270  0.01309  20.651       1  0.429895  0.825288 -4.443179   \n",
       "3      0.08771  0.01353  20.644       1  0.434969  0.819235 -4.117501   \n",
       "4      0.10470  0.01767  19.649       1  0.417356  0.823484 -3.747787   \n",
       "\n",
       "    spread2        D2       PPE  \n",
       "0  0.266482  2.301442  0.284654  \n",
       "1  0.335590  2.486855  0.368674  \n",
       "2  0.311173  2.342259  0.332634  \n",
       "3  0.334147  2.405554  0.368975  \n",
       "4  0.234513  2.332180  0.410335  \n",
       "\n",
       "[5 rows x 24 columns]"
      ]
     },
     "execution_count": 2,
     "metadata": {},
     "output_type": "execute_result"
    }
   ],
   "source": [
    "#read in the data\n",
    "df = pd.read_csv('parkinsons.data')\n",
    "df.head()"
   ]
  },
  {
   "cell_type": "code",
   "execution_count": 3,
   "id": "9e81dcd9",
   "metadata": {},
   "outputs": [
    {
     "name": "stdout",
     "output_type": "stream",
     "text": [
      "Number of 1's:  147 \n",
      " Number of 0's:  48\n"
     ]
    }
   ],
   "source": [
    "#Now we get the features and labels from the df\n",
    "feat = df.loc[:,df.columns != 'status'].values[:,1:]\n",
    "lab = df.loc[:, 'status'].values\n",
    "\n",
    "#now we will find the count of the number of 0, 1's that are in the status column\n",
    "print(\"Number of 1's: \", lab[lab == 1].shape[0], \"\\n Number of 0's: \", lab[lab == 0].shape[0])"
   ]
  },
  {
   "cell_type": "code",
   "execution_count": 5,
   "id": "b63c30e5",
   "metadata": {},
   "outputs": [],
   "source": [
    "# Now we normalize the features\n",
    "s = MinMaxScaler((-1, 1))\n",
    "X = s.fit_transform(feat)\n",
    "Y = lab\n",
    "\n",
    "#use tain test split function\n",
    "X_train, X_test, Y_train, Y_test = train_test_split(X, Y, test_size = 0.2, random_state = 7)"
   ]
  },
  {
   "cell_type": "markdown",
   "id": "43602206",
   "metadata": {},
   "source": [
    "#### K Nearest Neighbors"
   ]
  },
  {
   "cell_type": "code",
   "execution_count": 25,
   "id": "5287dc2d",
   "metadata": {},
   "outputs": [
    {
     "name": "stdout",
     "output_type": "stream",
     "text": [
      "Best hyperparameters:  {'algorithm': 'auto', 'n_neighbors': 1, 'p': 2}\n",
      "Model accuracy:  94.29166666666667 % accuracy\n",
      "Test data accuracy:  97.43589743589743 % accuracy using the score function. \n",
      "\n"
     ]
    },
    {
     "data": {
      "image/png": "[encoded data removed]",
      "text/plain": [
       "<Figure size 432x288 with 2 Axes>"
      ]
     },
     "metadata": {
      "needs_background": "light"
     },
     "output_type": "display_data"
    }
   ],
   "source": [
    "KNN = KNeighborsClassifier()\n",
    "\n",
    "#create a parameter dictionary to use to find the best parameters\n",
    "KNNP = {'n_neighbors': [1, 2, 3, 4, 5, 6, 7, 8, 9, 10, 11, 12], \n",
    "       'algorithm': ['auto', 'brute', 'ball_tree', 'kd_tree'],\n",
    "       'p': [1, 2]}\n",
    "# Use GridSearchCV to find the best parameters\n",
    "gsKNN = GridSearchCV(estimator = KNN, param_grid = KNNP, cv = 10, scoring = 'accuracy')\n",
    "\n",
    "KNNCV = gsKNN.fit(X_train, Y_train)\n",
    "\n",
    "print(\"Best hyperparameters: \", KNNCV.best_params_)\n",
    "print(\"Model accuracy: \", KNNCV.best_score_ * 100, \"% accuracy\")\n",
    "print(\"Test data accuracy: \", KNNCV.score(X_test, Y_test) * 100, \"% accuracy using the score function. \\n\")\n",
    "\n",
    "yh = KNNCV.predict(X_test)\n",
    "ConfusionMatrix(Y_test, yh)"
   ]
  },
  {
   "cell_type": "markdown",
   "id": "2b14706d",
   "metadata": {},
   "source": [
    "#### Logistical Regression"
   ]
  },
  {
   "cell_type": "code",
   "execution_count": 19,
   "id": "335a2c4a",
   "metadata": {},
   "outputs": [
    {
     "name": "stdout",
     "output_type": "stream",
     "text": [
      "Best hyperparameters:  {'C': 1, 'penalty': 'l2', 'solver': 'lbfgs'}\n",
      "Model accuracy:  84.08333333333336 % accuracy\n",
      "Test data accuracy:  87.17948717948718 % accuracy using the score function. \n",
      "\n"
     ]
    },
    {
     "data": {
      "image/png": "[encoded data removed]",
      "text/plain": [
       "<Figure size 432x288 with 2 Axes>"
      ]
     },
     "metadata": {
      "needs_background": "light"
     },
     "output_type": "display_data"
    }
   ],
   "source": [
    "LR = LogisticRegression()\n",
    "\n",
    "LRP = {\"C\": [0.01, 0.1, 1], \"penalty\": ['l2'], 'solver': ['lbfgs']}\n",
    "gsLR = GridSearchCV(estimator = LR, param_grid = LRP, cv = 10, scoring = 'accuracy')\n",
    "\n",
    "LRCV = gsLR.fit(X_train, Y_train)\n",
    "\n",
    "print(\"Best hyperparameters: \", LRCV.best_params_)\n",
    "print(\"Model accuracy: \", LRCV.best_score_ * 100, \"% accuracy\")\n",
    "print(\"Test data accuracy: \", LRCV.score(X_test, Y_test) * 100, \"% accuracy using the score function. \\n\")\n",
    "\n",
    "yh = LRCV.predict(X_test)\n",
    "ConfusionMatrix(Y_test, yh)"
   ]
  },
  {
   "cell_type": "markdown",
   "id": "221ea85f",
   "metadata": {},
   "source": [
    "#### Support Vector Machine"
   ]
  },
  {
   "cell_type": "code",
   "execution_count": 21,
   "id": "0b06d6d0",
   "metadata": {},
   "outputs": [
    {
     "name": "stdout",
     "output_type": "stream",
     "text": [
      "Best Hyperparameters:  {'C': 31.622776601683793, 'gamma': 1.0, 'kernel': 'rbf'}\n",
      "Model score:  93.04166666666667 % accuracy\n",
      "Test data accuracy:  97.43589743589743 % accuracy using the score function. \n",
      "\n"
     ]
    },
    {
     "data": {
      "image/png": "[encoded data removed]",
      "text/plain": [
       "<Figure size 432x288 with 2 Axes>"
      ]
     },
     "metadata": {
      "needs_background": "light"
     },
     "output_type": "display_data"
    }
   ],
   "source": [
    "SVM = SVC()\n",
    "\n",
    "SVMP = {'kernel': ('linear', 'rbf', 'poly', 'sigmoid'),\n",
    "       'C': np.logspace(-3, 3, 5), \n",
    "       'gamma': np.logspace(-3, 3, 5)}\n",
    "gsSVM = GridSearchCV(estimator = SVM, param_grid = SVMP, cv = 10, scoring = 'accuracy')\n",
    "\n",
    "SVMCV = gsSVM.fit(X_train, Y_train)\n",
    "\n",
    "print(\"Best Hyperparameters: \",  SVMCV.best_params_)\n",
    "print(\"Model score: \", SVMCV.best_score_ * 100, \"% accuracy\")\n",
    "print(\"Test data accuracy: \", SVMCV.score(X_test, Y_test) * 100, \"% accuracy using the score function. \\n\")\n",
    "\n",
    "yh = SVMCV.predict(X_test)\n",
    "ConfusionMatrix(Y_test, yh)"
   ]
  },
  {
   "cell_type": "markdown",
   "id": "39ed13d3",
   "metadata": {},
   "source": [
    "#### Decision Tree"
   ]
  },
  {
   "cell_type": "code",
   "execution_count": 24,
   "id": "e7acaea2",
   "metadata": {},
   "outputs": [
    {
     "name": "stdout",
     "output_type": "stream",
     "text": [
      "Best Hyperparameters:  {'criterion': 'entropy', 'max_depth': 12, 'max_features': 'sqrt', 'min_samples_leaf': 2, 'min_samples_split': 10, 'splitter': 'best'}\n",
      "Model accuracy:  90.45833333333333 % accuracy\n",
      "Test data accuracy:  76.92307692307693 % accuracy using the score function. \n",
      "\n"
     ]
    },
    {
     "data": {
      "image/png": "[encoded data removed]",
      "text/plain": [
       "<Figure size 432x288 with 2 Axes>"
      ]
     },
     "metadata": {
      "needs_background": "light"
     },
     "output_type": "display_data"
    }
   ],
   "source": [
    "DT = DecisionTreeClassifier()\n",
    "DTP = {'criterion': ['gini', 'entropy'],\n",
    "     'splitter': ['best', 'random'],\n",
    "     'max_depth': [2*n for n in range(1,10)],\n",
    "     'max_features': ['auto', 'sqrt'],\n",
    "     'min_samples_leaf': [1, 2, 4],\n",
    "     'min_samples_split': [2, 5, 10]}\n",
    "gsDT = GridSearchCV(estimator = DT, param_grid = DTP, cv = 10, scoring = 'accuracy')\n",
    "\n",
    "DTCV = gsDT.fit(X_train, Y_train)\n",
    "\n",
    "print(\"Best Hyperparameters: \", DTCV.best_params_)\n",
    "print(\"Model accuracy: \", DTCV.best_score_ * 100, \"% accuracy\")\n",
    "print(\"Test data accuracy: \", DTCV.score(X_test, Y_test) * 100, \"% accuracy using the score function. \\n\")\n",
    "\n",
    "yh = DTCV.predict(X_test)\n",
    "ConfusionMatrix(Y_test, yh)"
   ]
  },
  {
   "cell_type": "markdown",
   "id": "3fbc6965",
   "metadata": {},
   "source": [
    "Now that we have trained and tested many models we can now find the best model, and fine tune the hyperparameters to find the best."
   ]
  },
  {
   "cell_type": "code",
   "execution_count": 26,
   "id": "2971e5c6",
   "metadata": {},
   "outputs": [
    {
     "name": "stdout",
     "output_type": "stream",
     "text": [
      "The best model is:  KNN , with score:  94.29166666666667 % accuracy.\n",
      "Best Parameters:  {'algorithm': 'auto', 'n_neighbors': 1, 'p': 2}\n"
     ]
    }
   ],
   "source": [
    "models = {'KNN': KNNCV.best_score_, 'Tree': DTCV.best_score_, 'Log Regression': LRCV.best_score_, \n",
    "          'SVM': SVMCV.best_score_}\n",
    "BA = max(models, key = models.get)\n",
    "print(\"The best model is: \", BA, \", with score: \", models[BA] * 100, \"% accuracy.\")\n",
    "if BA == 'KNN':\n",
    "    print(\"Best Parameters: \", KNNCV.best_params_)\n",
    "elif BA == 'Tree':\n",
    "    print(\"Best Parameters: \", DTCV.best_params_)\n",
    "elif BA == 'Log Regression':\n",
    "    print(\"Best Parameters: \", LRCV.best_params_)\n",
    "elif BA == 'SVM':\n",
    "    print(\"Best Parameters: \", SVMCV.best_params_)\n",
    "else:\n",
    "    print(\"Something Went Wrong!\")"
   ]
  },
  {
   "cell_type": "markdown",
   "id": "5b630a7d",
   "metadata": {},
   "source": [
    "## Results "
   ]
  },
  {
   "cell_type": "markdown",
   "id": "144ba340",
   "metadata": {},
   "source": [
    "From our tests on the data set using many different classification algoritms, we found that the K Nearest Neighbors was the best model with a score of 94.2%. The best parameters were found using the gird search cv."
   ]
  },
  {
   "cell_type": "code",
   "execution_count": null,
   "id": "815f2ba9",
   "metadata": {},
   "outputs": [],
   "source": []
  }
 ],
 "metadata": {
  "kernelspec": {
   "display_name": "Python 3 (ipykernel)",
   "language": "python",
   "name": "python3"
  },
  "language_info": {
   "codemirror_mode": {
    "name": "ipython",
    "version": 3
   },
   "file_extension": ".py",
   "mimetype": "text/x-python",
   "name": "python",
   "nbconvert_exporter": "python",
   "pygments_lexer": "ipython3",
   "version": "3.9.7"
  }
 },
 "nbformat": 4,
 "nbformat_minor": 5
}
